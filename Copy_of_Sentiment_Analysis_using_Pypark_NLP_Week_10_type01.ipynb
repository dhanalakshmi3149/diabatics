{
  "nbformat": 4,
  "nbformat_minor": 0,
  "metadata": {
    "colab": {
      "provenance": [],
      "include_colab_link": true
    },
    "kernelspec": {
      "name": "python3",
      "display_name": "Python 3"
    },
    "language_info": {
      "name": "python"
    }
  },
  "cells": [
    {
      "cell_type": "markdown",
      "metadata": {
        "id": "view-in-github",
        "colab_type": "text"
      },
      "source": [
        "<a href=\"https://colab.research.google.com/github/dhanalakshmi3149/diabatics/blob/main/Copy_of_Sentiment_Analysis_using_Pypark_NLP_Week_10_type01.ipynb\" target=\"_parent\"><img src=\"https://colab.research.google.com/assets/colab-badge.svg\" alt=\"Open In Colab\"/></a>"
      ]
    },
    {
      "cell_type": "code",
      "execution_count": 1,
      "metadata": {
        "colab": {
          "base_uri": "https://localhost:8080/"
        },
        "id": "rvrx6uMU5kLs",
        "outputId": "cc935ff4-1fdf-4a9a-8ce5-15df51c8c218"
      },
      "outputs": [
        {
          "output_type": "stream",
          "name": "stdout",
          "text": [
            "Collecting pyspark==3.4.1\n",
            "  Downloading pyspark-3.4.1.tar.gz (310.8 MB)\n",
            "\u001b[2K     \u001b[90m━━━━━━━━━━━━━━━━━━━━━━━━━━━━━━━━━━━━━\u001b[0m \u001b[32m310.8/310.8 MB\u001b[0m \u001b[31m688.5 kB/s\u001b[0m eta \u001b[36m0:00:00\u001b[0m\n",
            "\u001b[?25h  Preparing metadata (setup.py) ... \u001b[?25l\u001b[?25hdone\n",
            "Requirement already satisfied: py4j==0.10.9.7 in /usr/local/lib/python3.11/dist-packages (from pyspark==3.4.1) (0.10.9.7)\n",
            "Building wheels for collected packages: pyspark\n",
            "  Building wheel for pyspark (setup.py) ... \u001b[?25l\u001b[?25hdone\n",
            "  Created wheel for pyspark: filename=pyspark-3.4.1-py2.py3-none-any.whl size=311285391 sha256=e8ee4da240db8666ad69721004b4ed1e658057ec09162efc6b8d0335008f7497\n",
            "  Stored in directory: /root/.cache/pip/wheels/e9/b4/d8/38accc42606f6675165423e9f0236f8e825f6b6b6048d6743e\n",
            "Successfully built pyspark\n",
            "Installing collected packages: pyspark\n",
            "  Attempting uninstall: pyspark\n",
            "    Found existing installation: pyspark 3.5.1\n",
            "    Uninstalling pyspark-3.5.1:\n",
            "      Successfully uninstalled pyspark-3.5.1\n",
            "\u001b[31mERROR: pip's dependency resolver does not currently take into account all the packages that are installed. This behaviour is the source of the following dependency conflicts.\n",
            "dataproc-spark-connect 0.8.3 requires pyspark[connect]~=3.5.1, but you have pyspark 3.4.1 which is incompatible.\u001b[0m\u001b[31m\n",
            "\u001b[0mSuccessfully installed pyspark-3.4.1\n",
            "Collecting spark-nlp==5.2.3\n",
            "  Downloading spark_nlp-5.2.3-py2.py3-none-any.whl.metadata (56 kB)\n",
            "\u001b[2K     \u001b[90m━━━━━━━━━━━━━━━━━━━━━━━━━━━━━━━━━━━━━━━━\u001b[0m \u001b[32m56.6/56.6 kB\u001b[0m \u001b[31m3.5 MB/s\u001b[0m eta \u001b[36m0:00:00\u001b[0m\n",
            "\u001b[?25hDownloading spark_nlp-5.2.3-py2.py3-none-any.whl (547 kB)\n",
            "\u001b[2K   \u001b[90m━━━━━━━━━━━━━━━━━━━━━━━━━━━━━━━━━━━━━━━━\u001b[0m \u001b[32m547.6/547.6 kB\u001b[0m \u001b[31m14.9 MB/s\u001b[0m eta \u001b[36m0:00:00\u001b[0m\n",
            "\u001b[?25hInstalling collected packages: spark-nlp\n",
            "Successfully installed spark-nlp-5.2.3\n"
          ]
        }
      ],
      "source": [
        "!pip install pyspark==3.4.1\n",
        "!pip install spark-nlp==5.2.3"
      ]
    },
    {
      "cell_type": "code",
      "source": [
        "from pyspark.sql import SparkSession\n",
        "from sparknlp.base import DocumentAssembler, Pipeline\n",
        "from sparknlp.annotator import Tokenizer, Normalizer, BertEmbeddings, SentimentDLModel, LemmatizerModel, UniversalSentenceEncoder\n",
        "from pyspark.ml import Pipeline as MLPipeline\n",
        "\n",
        "# Start Spark NLP session\n",
        "import sparknlp\n",
        "spark = sparknlp.start()\n",
        "\n",
        "# Sample dataset (50 sample sentences)\n",
        "sentences = [\n",
        "    \"I love this movie!\", \"This was the worst experience.\", \"Pretty decent overall.\",\n",
        "    \"Absolutely fantastic!\", \"I'm not sure how I feel.\", \"Worst purchase ever.\",\n",
        "    \"Great value for the money.\", \"It was okay, not great.\", \"Terrible, just terrible.\",\n",
        "    \"Super fun and engaging!\", \"Would not recommend it.\", \"Kind of boring.\",\n",
        "    \"Loved every minute!\", \"It was a disaster.\", \"Highly recommend!\",\n",
        "    \"Too expensive for what you get.\", \"Amazing support team!\", \"Horrible food.\",\n",
        "    \"I'll definitely buy it again.\", \"Meh, nothing special.\", \"Exceeded my expectations!\",\n",
        "    \"Not worth the hype.\", \"Incredible storytelling.\", \"Never again.\",\n",
        "    \"Pretty enjoyable!\", \"Worst customer service.\", \"Delightful and fresh.\",\n",
        "    \"Disappointed.\", \"Can't wait to try it again!\", \"A total waste of time.\",\n",
        "    \"Superb work!\", \"Very underwhelming.\", \"Loved the packaging.\",\n",
        "    \"Felt very rushed.\", \"Unbelievably good.\", \"Didn't like it at all.\",\n",
        "    \"Perfect execution!\", \"Mediocre at best.\", \"Simply amazing.\",\n",
        "    \"It made my day!\", \"Forgettable.\", \"Super smooth experience.\",\n",
        "    \"I regret buying it.\", \"Truly inspiring.\", \"Boring and repetitive.\",\n",
        "    \"Five stars!\", \"Nothing new.\", \"Highly entertaining.\", \"Wasted potential.\", \"It was alright.\"\n",
        "]\n",
        "\n",
        "# Create DataFrame\n",
        "df = spark.createDataFrame([(s,) for s in sentences], [\"text\"])\n",
        "\n",
        "# Spark NLP pipeline\n",
        "document_assembler = DocumentAssembler().setInputCol(\"text\").setOutputCol(\"document\")\n",
        "\n",
        "# Add sentence embeddings\n",
        "use = UniversalSentenceEncoder.pretrained(\"tfhub_use\", \"en\") \\\n",
        "    .setInputCols([\"document\"]) \\\n",
        "    .setOutputCol(\"sentence_embeddings\")\n",
        "\n",
        "# Use pretrained sentiment model (Twitter-based)\n",
        "sentiment_model = SentimentDLModel.pretrained(\"sentimentdl_use_twitter\", \"en\")\\\n",
        "    .setInputCols([\"sentence_embeddings\"])\\\n",
        "    .setOutputCol(\"sentiment\")\n",
        "\n",
        "# Create pipeline\n",
        "pipeline = Pipeline(stages=[document_assembler, use, sentiment_model])\n",
        "\n",
        "# Run the pipeline\n",
        "result = pipeline.fit(df).transform(df)\n",
        "\n",
        "# Show results\n",
        "result.select(\"text\", \"sentiment.result\").show(truncate=False)"
      ],
      "metadata": {
        "colab": {
          "base_uri": "https://localhost:8080/"
        },
        "id": "wzruAn6b50rm",
        "outputId": "79054570-b239-450a-c6d6-e5bef4a1485d"
      },
      "execution_count": 2,
      "outputs": [
        {
          "output_type": "stream",
          "name": "stdout",
          "text": [
            "tfhub_use download started this may take some time.\n",
            "Approximate size to download 923.7 MB\n",
            "[OK!]\n",
            "sentimentdl_use_twitter download started this may take some time.\n",
            "Approximate size to download 11.4 MB\n",
            "[OK!]\n",
            "+-------------------------------+----------+\n",
            "|text                           |result    |\n",
            "+-------------------------------+----------+\n",
            "|I love this movie!             |[positive]|\n",
            "|This was the worst experience. |[negative]|\n",
            "|Pretty decent overall.         |[positive]|\n",
            "|Absolutely fantastic!          |[positive]|\n",
            "|I'm not sure how I feel.       |[negative]|\n",
            "|Worst purchase ever.           |[negative]|\n",
            "|Great value for the money.     |[positive]|\n",
            "|It was okay, not great.        |[neutral] |\n",
            "|Terrible, just terrible.       |[negative]|\n",
            "|Super fun and engaging!        |[positive]|\n",
            "|Would not recommend it.        |[negative]|\n",
            "|Kind of boring.                |[negative]|\n",
            "|Loved every minute!            |[positive]|\n",
            "|It was a disaster.             |[negative]|\n",
            "|Highly recommend!              |[positive]|\n",
            "|Too expensive for what you get.|[negative]|\n",
            "|Amazing support team!          |[positive]|\n",
            "|Horrible food.                 |[negative]|\n",
            "|I'll definitely buy it again.  |[positive]|\n",
            "|Meh, nothing special.          |[negative]|\n",
            "+-------------------------------+----------+\n",
            "only showing top 20 rows\n",
            "\n"
          ]
        }
      ]
    },
    {
      "cell_type": "code",
      "source": [],
      "metadata": {
        "id": "KHLimUJs6TUz"
      },
      "execution_count": 2,
      "outputs": []
    }
  ]
}