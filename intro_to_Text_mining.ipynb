{
  "nbformat": 4,
  "nbformat_minor": 0,
  "metadata": {
    "colab": {
      "provenance": [],
      "authorship_tag": "ABX9TyO6RSxDs6k4ZKa5U7GEAual",
      "include_colab_link": true
    },
    "kernelspec": {
      "name": "python3",
      "display_name": "Python 3"
    },
    "language_info": {
      "name": "python"
    }
  },
  "cells": [
    {
      "cell_type": "markdown",
      "metadata": {
        "id": "view-in-github",
        "colab_type": "text"
      },
      "source": [
        "<a href=\"https://colab.research.google.com/github/dhanalakshmi3149/diabatics/blob/main/intro_to_Text_mining.ipynb\" target=\"_parent\"><img src=\"https://colab.research.google.com/assets/colab-badge.svg\" alt=\"Open In Colab\"/></a>"
      ]
    },
    {
      "cell_type": "code",
      "execution_count": 1,
      "metadata": {
        "colab": {
          "base_uri": "https://localhost:8080/"
        },
        "id": "KtfzjXHPtHVv",
        "outputId": "881b3ac3-ffb9-40f9-b7a3-e966ced8947f"
      },
      "outputs": [
        {
          "output_type": "stream",
          "name": "stdout",
          "text": [
            "Requirement already satisfied: pyspark in /usr/local/lib/python3.11/dist-packages (3.5.1)\n",
            "Requirement already satisfied: nltk in /usr/local/lib/python3.11/dist-packages (3.9.1)\n",
            "Requirement already satisfied: py4j==0.10.9.7 in /usr/local/lib/python3.11/dist-packages (from pyspark) (0.10.9.7)\n",
            "Requirement already satisfied: click in /usr/local/lib/python3.11/dist-packages (from nltk) (8.2.1)\n",
            "Requirement already satisfied: joblib in /usr/local/lib/python3.11/dist-packages (from nltk) (1.5.1)\n",
            "Requirement already satisfied: regex>=2021.8.3 in /usr/local/lib/python3.11/dist-packages (from nltk) (2024.11.6)\n",
            "Requirement already satisfied: tqdm in /usr/local/lib/python3.11/dist-packages (from nltk) (4.67.1)\n"
          ]
        }
      ],
      "source": [
        "!pip install pyspark nltk\n"
      ]
    },
    {
      "cell_type": "code",
      "source": [
        "import nltk\n",
        "nltk.download('wordnet')\n",
        "nltk.download('omw-1.4')"
      ],
      "metadata": {
        "colab": {
          "base_uri": "https://localhost:8080/"
        },
        "id": "BmdRYqUhtMKA",
        "outputId": "1d4ccb81-3dc5-47c5-d76b-377a9b76750f"
      },
      "execution_count": 2,
      "outputs": [
        {
          "output_type": "stream",
          "name": "stderr",
          "text": [
            "[nltk_data] Downloading package wordnet to /root/nltk_data...\n",
            "[nltk_data] Downloading package omw-1.4 to /root/nltk_data...\n"
          ]
        },
        {
          "output_type": "execute_result",
          "data": {
            "text/plain": [
              "True"
            ]
          },
          "metadata": {},
          "execution_count": 2
        }
      ]
    },
    {
      "cell_type": "code",
      "source": [
        " #Import necessary PySpark modules\n",
        "from pyspark.sql import SparkSession\n",
        "from pyspark.sql.functions import col\n",
        "from pyspark.ml.feature import Tokenizer, StopWordsRemover, HashingTF, IDF\n",
        "from pyspark.ml.classification import LogisticRegression\n",
        "from pyspark.ml import Pipeline\n",
        "from pyspark.ml.feature import StringIndexer\n",
        "from pyspark.ml.evaluation import MulticlassClassificationEvaluator"
      ],
      "metadata": {
        "id": "Uy8JZI6ptR-0"
      },
      "execution_count": 4,
      "outputs": []
    },
    {
      "cell_type": "code",
      "source": [
        "#Import NLP Libraries for Stemming & Lemmatization\n",
        "from pyspark.sql.functions import udf\n",
        "from pyspark.sql.types import ArrayType, StringType\n",
        "from nltk.stem import PorterStemmer, WordNetLemmatizer"
      ],
      "metadata": {
        "id": "UIYV7t3ZteeD"
      },
      "execution_count": 5,
      "outputs": []
    },
    {
      "cell_type": "code",
      "source": [
        "#Define UDFs for Stemming & Lemmatization\n",
        "# Initialize Stemmer and Lemmatizer\n",
        "stemmer = PorterStemmer()\n",
        "lemmatizer = WordNetLemmatizer()\n",
        "\n",
        "# Define UDF for Stemming\n",
        "def stem_words(words):\n",
        "    return [stemmer.stem(word) for word in words]\n",
        "\n",
        "# Define UDF for Lemmatization\n",
        "def lemmatize_words(words):\n",
        "    return [lemmatizer.lemmatize(word) for word in words]\n",
        "\n",
        "# Convert Python functions to PySpark UDFs\n",
        "stem_udf = udf(stem_words, ArrayType(StringType()))\n",
        "lemma_udf = udf(lemmatize_words, ArrayType(StringType()))"
      ],
      "metadata": {
        "id": "7tE3GED0tk2v"
      },
      "execution_count": 6,
      "outputs": []
    },
    {
      "cell_type": "code",
      "source": [
        "# Create a Spark session\n",
        "spark = SparkSession.builder.appName(\"DocumentClassificationTFIDF\").getOrCreate()"
      ],
      "metadata": {
        "id": "WnmuzI3gtp2H"
      },
      "execution_count": 7,
      "outputs": []
    },
    {
      "cell_type": "code",
      "source": [
        "# Load & Preprocess Data (Tokenization, Stopword Removal, Stemming, Lemmatization)\n",
        "# Sample dataset\n",
        "data = [(0,\"Cloud computing is becoming increasingly important for businesses\",\"Technology\"),\n",
        " (1, \"Basketball players are preparing for the next tournament\", \"Sports\"),\n",
        " (2,\"Machine learning has revolutionized the way data is processed\",\"Technology\"),\n",
        " (3, \"Political campaigns are gearing up for the upcoming elections\",\"Politics\"),\n",
        " (4, \"The football team has been training hard for the upcoming season\", \"Sports\"),\n",
        " (5,\"International relations are being discussed in diplomatic meetings\",\"Politics\"),\n",
        " (6, \"The president addressed the nation in a live broadcast\", \"Politics\"),\n",
        " (7, \"Tennis players are practicing for the grand slam matches\", \"Sports\"),\n",
        " (8,\"Machine learning has revolutionized the way data is processed\",\"Technology\"),\n",
        " (9, \"Stock trading has become a popular way to build wealth\", \"Finance\"),\n",
        " (10, \"5G technology is expected to significantly improve communication speeds\",\"Technology\"),\n",
        " (11,\"Political campaigns are gearing up for the upcoming elections\",\"Politics\"),\n",
        " (12,\n",
        "  \"Machine learning has revolutionized the way data is processed\",\n",
        "  \"Technology\"),\n",
        " (13,\n",
        "  \"Investors are looking for high-yield bonds in the current market\",\n",
        "  \"Finance\"),\n",
        " (14,\n",
        "  \"Quantum computing holds promise for solving complex problems\",\n",
        "  \"Technology\"),\n",
        " (15,\n",
        "  \"Cloud computing is becoming increasingly important for businesses\",\n",
        "  \"Technology\"),\n",
        " (16, \"The Formula 1 race track is set to host the next grand prix\", \"Sports\"),\n",
        " (17,\n",
        "  \"Financial experts are advising on diversifying investment portfolios\",\n",
        "  \"Finance\"),\n",
        " (18, \"Stock trading has become a popular way to build wealth\", \"Finance\"),\n",
        " (19, \"Stock trading has become a popular way to build wealth\", \"Finance\"),\n",
        " (20,\n",
        "  \"International relations are being discussed in diplomatic meetings\",\n",
        "  \"Politics\"),\n",
        " (21, \"The Formula 1 race track is set to host the next grand prix\", \"Sports\"),\n",
        " (22,\n",
        "  \"Political campaigns are gearing up for the upcoming elections\",\n",
        "  \"Politics\"),\n",
        " (23,\n",
        "  \"Machine learning has revolutionized the way data is processed\",\n",
        "  \"Technology\"),\n",
        " (24,\n",
        "  \"The football team has been training hard for the upcoming season\",\n",
        "  \"Sports\"),\n",
        " (25, \"Tennis players are practicing for the grand slam matches\", \"Sports\"),\n",
        " (26, \"Tennis players are practicing for the grand slam matches\", \"Sports\"),\n",
        " (27,\n",
        "  \"Political campaigns are gearing up for the upcoming elections\",\n",
        "  \"Politics\"),\n",
        " (28,\n",
        "  \"The real estate market has seen significant growth in the past decade\",\n",
        "  \"Finance\"),\n",
        " (29,\n",
        "  \"Financial experts are advising on diversifying investment portfolios\",\n",
        "  \"Finance\")]\n",
        "df = spark.createDataFrame(data, [\"id\", \"text\", \"category\"])\n",
        "\n",
        "# Tokenization\n",
        "tokenizer = Tokenizer(inputCol=\"text\", outputCol=\"words\")\n",
        "df = tokenizer.transform(df)\n",
        "\n",
        "# Stopword Removal\n",
        "remover = StopWordsRemover(inputCol=\"words\", outputCol=\"filtered_words\")\n",
        "df = remover.transform(df)\n",
        "\n",
        "# Apply Stemming\n",
        "df = df.withColumn(\"stemmed_words\", stem_udf(col(\"filtered_words\")))\n",
        "\n",
        "# Apply Lemmatization\n",
        "df = df.withColumn(\"lemmatized_words\", lemma_udf(col(\"filtered_words\")))\n",
        "\n",
        "# Show Results\n",
        "df.select(\"text\", \"filtered_words\", \"stemmed_words\", \"lemmatized_words\").show(truncate=False)"
      ],
      "metadata": {
        "colab": {
          "base_uri": "https://localhost:8080/"
        },
        "id": "lr1pU6I9ttkv",
        "outputId": "057c2154-bd01-412f-cb84-3457fa88607c"
      },
      "execution_count": 8,
      "outputs": [
        {
          "output_type": "stream",
          "name": "stdout",
          "text": [
            "+-----------------------------------------------------------------------+-------------------------------------------------------------------------+-------------------------------------------------------------+------------------------------------------------------------------------+\n",
            "|text                                                                   |filtered_words                                                           |stemmed_words                                                |lemmatized_words                                                        |\n",
            "+-----------------------------------------------------------------------+-------------------------------------------------------------------------+-------------------------------------------------------------+------------------------------------------------------------------------+\n",
            "|Cloud computing is becoming increasingly important for businesses      |[cloud, computing, becoming, increasingly, important, businesses]        |[cloud, comput, becom, increasingli, import, busi]           |[cloud, computing, becoming, increasingly, important, business]         |\n",
            "|Basketball players are preparing for the next tournament               |[basketball, players, preparing, next, tournament]                       |[basketbal, player, prepar, next, tournament]                |[basketball, player, preparing, next, tournament]                       |\n",
            "|Machine learning has revolutionized the way data is processed          |[machine, learning, revolutionized, way, data, processed]                |[machin, learn, revolution, way, data, process]              |[machine, learning, revolutionized, way, data, processed]               |\n",
            "|Political campaigns are gearing up for the upcoming elections          |[political, campaigns, gearing, upcoming, elections]                     |[polit, campaign, gear, upcom, elect]                        |[political, campaign, gearing, upcoming, election]                      |\n",
            "|The football team has been training hard for the upcoming season       |[football, team, training, hard, upcoming, season]                       |[footbal, team, train, hard, upcom, season]                  |[football, team, training, hard, upcoming, season]                      |\n",
            "|International relations are being discussed in diplomatic meetings     |[international, relations, discussed, diplomatic, meetings]              |[intern, relat, discuss, diplomat, meet]                     |[international, relation, discussed, diplomatic, meeting]               |\n",
            "|The president addressed the nation in a live broadcast                 |[president, addressed, nation, live, broadcast]                          |[presid, address, nation, live, broadcast]                   |[president, addressed, nation, live, broadcast]                         |\n",
            "|Tennis players are practicing for the grand slam matches               |[tennis, players, practicing, grand, slam, matches]                      |[tenni, player, practic, grand, slam, match]                 |[tennis, player, practicing, grand, slam, match]                        |\n",
            "|Machine learning has revolutionized the way data is processed          |[machine, learning, revolutionized, way, data, processed]                |[machin, learn, revolution, way, data, process]              |[machine, learning, revolutionized, way, data, processed]               |\n",
            "|Stock trading has become a popular way to build wealth                 |[stock, trading, become, popular, way, build, wealth]                    |[stock, trade, becom, popular, way, build, wealth]           |[stock, trading, become, popular, way, build, wealth]                   |\n",
            "|5G technology is expected to significantly improve communication speeds|[5g, technology, expected, significantly, improve, communication, speeds]|[5g, technolog, expect, significantli, improv, commun, speed]|[5g, technology, expected, significantly, improve, communication, speed]|\n",
            "|Political campaigns are gearing up for the upcoming elections          |[political, campaigns, gearing, upcoming, elections]                     |[polit, campaign, gear, upcom, elect]                        |[political, campaign, gearing, upcoming, election]                      |\n",
            "|Machine learning has revolutionized the way data is processed          |[machine, learning, revolutionized, way, data, processed]                |[machin, learn, revolution, way, data, process]              |[machine, learning, revolutionized, way, data, processed]               |\n",
            "|Investors are looking for high-yield bonds in the current market       |[investors, looking, high-yield, bonds, current, market]                 |[investor, look, high-yield, bond, current, market]          |[investor, looking, high-yield, bond, current, market]                  |\n",
            "|Quantum computing holds promise for solving complex problems           |[quantum, computing, holds, promise, solving, complex, problems]         |[quantum, comput, hold, promis, solv, complex, problem]      |[quantum, computing, hold, promise, solving, complex, problem]          |\n",
            "|Cloud computing is becoming increasingly important for businesses      |[cloud, computing, becoming, increasingly, important, businesses]        |[cloud, comput, becom, increasingli, import, busi]           |[cloud, computing, becoming, increasingly, important, business]         |\n",
            "|The Formula 1 race track is set to host the next grand prix            |[formula, 1, race, track, set, host, next, grand, prix]                  |[formula, 1, race, track, set, host, next, grand, prix]      |[formula, 1, race, track, set, host, next, grand, prix]                 |\n",
            "|Financial experts are advising on diversifying investment portfolios   |[financial, experts, advising, diversifying, investment, portfolios]     |[financi, expert, advis, diversifi, invest, portfolio]       |[financial, expert, advising, diversifying, investment, portfolio]      |\n",
            "|Stock trading has become a popular way to build wealth                 |[stock, trading, become, popular, way, build, wealth]                    |[stock, trade, becom, popular, way, build, wealth]           |[stock, trading, become, popular, way, build, wealth]                   |\n",
            "|Stock trading has become a popular way to build wealth                 |[stock, trading, become, popular, way, build, wealth]                    |[stock, trade, becom, popular, way, build, wealth]           |[stock, trading, become, popular, way, build, wealth]                   |\n",
            "+-----------------------------------------------------------------------+-------------------------------------------------------------------------+-------------------------------------------------------------+------------------------------------------------------------------------+\n",
            "only showing top 20 rows\n",
            "\n"
          ]
        }
      ]
    },
    {
      "cell_type": "code",
      "source": [
        "# Compute TF-IDF After Preprocessing\n",
        "# Apply HashingTF to the lemmatized words\n",
        "hashingTF = HashingTF(inputCol=\"lemmatized_words\", outputCol=\"raw_features\", numFeatures=500)\n",
        "df = hashingTF.transform(df)\n",
        "\n",
        "# Compute IDF\n",
        "idf = IDF(inputCol=\"raw_features\", outputCol=\"features\")\n",
        "idf_model = idf.fit(df)\n",
        "df = idf_model.transform(df)\n",
        "\n",
        "# Show TF-IDF Features\n",
        "df.select(\"text\", \"features\").show(truncate=False)"
      ],
      "metadata": {
        "colab": {
          "base_uri": "https://localhost:8080/"
        },
        "id": "3NXBjntLtzNb",
        "outputId": "10a1bf99-be24-4e76-9e95-1be1631d8fd1"
      },
      "execution_count": 9,
      "outputs": [
        {
          "output_type": "stream",
          "name": "stdout",
          "text": [
            "+-----------------------------------------------------------------------+---------------------------------------------------------------------------------------------------------------------------------------------------------------------------------------------------------------------+\n",
            "|text                                                                   |features                                                                                                                                                                                                             |\n",
            "+-----------------------------------------------------------------------+---------------------------------------------------------------------------------------------------------------------------------------------------------------------------------------------------------------------+\n",
            "|Cloud computing is becoming increasingly important for businesses      |(500,[13,287,345,374,467,480],[2.3353749158170367,2.3353749158170367,2.0476928433652555,2.3353749158170367,2.3353749158170367,2.3353749158170367])                                                                   |\n",
            "|Basketball players are preparing for the next tournament               |(500,[63,104,243,273,367],[2.740840023925201,1.488077055429833,2.740840023925201,2.0476928433652555,2.740840023925201])                                                                                              |\n",
            "|Machine learning has revolutionized the way data is processed          |(500,[40,65,72,195,360,391],[1.0360919316867758,1.824549292051046,1.824549292051046,1.824549292051046,1.824549292051046,1.3545456628053103])                                                                         |\n",
            "|Political campaigns are gearing up for the upcoming elections          |(500,[40,132,175,435,461],[1.0360919316867758,1.824549292051046,1.824549292051046,1.824549292051046,1.824549292051046])                                                                                              |\n",
            "|The football team has been training hard for the upcoming season       |(500,[38,40,104,125,358,468],[2.3353749158170367,1.0360919316867758,1.488077055429833,2.3353749158170367,2.3353749158170367,2.3353749158170367])                                                                     |\n",
            "|International relations are being discussed in diplomatic meetings     |(500,[20,60,188,208,479],[2.0476928433652555,2.3353749158170367,2.3353749158170367,2.3353749158170367,2.3353749158170367])                                                                                           |\n",
            "|The president addressed the nation in a live broadcast                 |(500,[14,244,251,306,493],[1.824549292051046,2.740840023925201,2.740840023925201,2.740840023925201,2.740840023925201])                                                                                               |\n",
            "|Tennis players are practicing for the grand slam matches               |(500,[90,94,104,226,293,456],[1.236762627148927,2.0476928433652555,1.488077055429833,2.0476928433652555,1.488077055429833,2.0476928433652555])                                                                       |\n",
            "|Machine learning has revolutionized the way data is processed          |(500,[40,65,72,195,360,391],[1.0360919316867758,1.824549292051046,1.824549292051046,1.824549292051046,1.824549292051046,1.3545456628053103])                                                                         |\n",
            "|Stock trading has become a popular way to build wealth                 |(500,[14,90,148,293,391,490],[1.824549292051046,2.473525254297854,2.0476928433652555,1.488077055429833,1.3545456628053103,2.0476928433652555])                                                                       |\n",
            "|5G technology is expected to significantly improve communication speeds|(500,[20,143,164,171,292,408,482],[2.0476928433652555,2.740840023925201,2.740840023925201,2.740840023925201,2.740840023925201,2.740840023925201,2.740840023925201])                                                  |\n",
            "|Political campaigns are gearing up for the upcoming elections          |(500,[40,132,175,435,461],[1.0360919316867758,1.824549292051046,1.824549292051046,1.824549292051046,1.824549292051046])                                                                                              |\n",
            "|Machine learning has revolutionized the way data is processed          |(500,[40,65,72,195,360,391],[1.0360919316867758,1.824549292051046,1.824549292051046,1.824549292051046,1.824549292051046,1.3545456628053103])                                                                         |\n",
            "|Investors are looking for high-yield bonds in the current market       |(500,[147,157,189,232,248,436],[2.740840023925201,2.3353749158170367,2.740840023925201,2.740840023925201,2.740840023925201,2.740840023925201])                                                                       |\n",
            "|Quantum computing holds promise for solving complex problems           |(500,[53,56,198,333,345,355,389],[2.740840023925201,2.740840023925201,2.740840023925201,2.740840023925201,2.0476928433652555,2.740840023925201,2.740840023925201])                                                   |\n",
            "|Cloud computing is becoming increasingly important for businesses      |(500,[13,287,345,374,467,480],[2.3353749158170367,2.3353749158170367,2.0476928433652555,2.3353749158170367,2.3353749158170367,2.3353749158170367])                                                                   |\n",
            "|The Formula 1 race track is set to host the next grand prix            |(500,[90,95,102,273,342,413,431,452,454],[1.236762627148927,2.3353749158170367,2.3353749158170367,2.0476928433652555,2.3353749158170367,2.3353749158170367,2.3353749158170367,2.3353749158170367,2.3353749158170367])|\n",
            "|Financial experts are advising on diversifying investment portfolios   |(500,[62,93,161,178,407,414],[2.3353749158170367,2.3353749158170367,2.3353749158170367,2.3353749158170367,2.3353749158170367,2.3353749158170367])                                                                    |\n",
            "|Stock trading has become a popular way to build wealth                 |(500,[14,90,148,293,391,490],[1.824549292051046,2.473525254297854,2.0476928433652555,1.488077055429833,1.3545456628053103,2.0476928433652555])                                                                       |\n",
            "|Stock trading has become a popular way to build wealth                 |(500,[14,90,148,293,391,490],[1.824549292051046,2.473525254297854,2.0476928433652555,1.488077055429833,1.3545456628053103,2.0476928433652555])                                                                       |\n",
            "+-----------------------------------------------------------------------+---------------------------------------------------------------------------------------------------------------------------------------------------------------------------------------------------------------------+\n",
            "only showing top 20 rows\n",
            "\n"
          ]
        }
      ]
    },
    {
      "cell_type": "code",
      "source": [
        "#Step 5: Train & Evaluate Logistic Regression Classifier\n",
        "\n",
        "# Convert category labels to numerical labels\n",
        "indexer = StringIndexer(inputCol=\"category\", outputCol=\"label\")\n",
        "df = indexer.fit(df).transform(df)\n",
        "df.select(\"category\", \"label\").distinct().show()\n",
        "# Split Data\n",
        "train_data, test_data = df.randomSplit([0.8, 0.2], seed=42)\n",
        "\n",
        "# Train Logistic Regression Model\n",
        "lr = LogisticRegression(featuresCol=\"features\", labelCol=\"label\")\n",
        "lr_model = lr.fit(train_data)\n",
        "\n",
        "# Predictions\n",
        "predictions = lr_model.transform(test_data)\n",
        "predictions.select(\"text\", \"category\", \"prediction\").show(truncate=False)\n",
        "\n",
        "# Evaluate Model Accuracy\n",
        "evaluator = MulticlassClassificationEvaluator(labelCol=\"label\", predictionCol=\"prediction\", metricName=\"accuracy\")\n",
        "accuracy_tf_idf = evaluator.evaluate(predictions)\n",
        "print(f\"TF-IDF Model Accuracy: {accuracy_tf_idf:.2f}\")"
      ],
      "metadata": {
        "colab": {
          "base_uri": "https://localhost:8080/"
        },
        "id": "6_bhcIiSt6xT",
        "outputId": "077efdad-2c97-444b-8639-dfdc1bcc5aeb"
      },
      "execution_count": 10,
      "outputs": [
        {
          "output_type": "stream",
          "name": "stdout",
          "text": [
            "+----------+-----+\n",
            "|  category|label|\n",
            "+----------+-----+\n",
            "|    Sports|  0.0|\n",
            "|  Politics|  3.0|\n",
            "|   Finance|  2.0|\n",
            "|Technology|  1.0|\n",
            "+----------+-----+\n",
            "\n",
            "+--------------------------------------------------------------------+----------+----------+\n",
            "|text                                                                |category  |prediction|\n",
            "+--------------------------------------------------------------------+----------+----------+\n",
            "|Machine learning has revolutionized the way data is processed       |Technology|1.0       |\n",
            "|The president addressed the nation in a live broadcast              |Politics  |2.0       |\n",
            "|Machine learning has revolutionized the way data is processed       |Technology|1.0       |\n",
            "|Investors are looking for high-yield bonds in the current market    |Finance   |2.0       |\n",
            "|Cloud computing is becoming increasingly important for businesses   |Technology|1.0       |\n",
            "|International relations are being discussed in diplomatic meetings  |Politics  |3.0       |\n",
            "|The Formula 1 race track is set to host the next grand prix         |Sports    |0.0       |\n",
            "|Financial experts are advising on diversifying investment portfolios|Finance   |2.0       |\n",
            "+--------------------------------------------------------------------+----------+----------+\n",
            "\n",
            "TF-IDF Model Accuracy: 0.88\n"
          ]
        }
      ]
    },
    {
      "cell_type": "code",
      "source": [
        "df.select(\"category\", \"label\").distinct().show()"
      ],
      "metadata": {
        "colab": {
          "base_uri": "https://localhost:8080/"
        },
        "id": "a5EvjDEruYwz",
        "outputId": "00956363-d6d5-4b26-a51f-8c9ecf33711a"
      },
      "execution_count": 11,
      "outputs": [
        {
          "output_type": "stream",
          "name": "stdout",
          "text": [
            "+----------+-----+\n",
            "|  category|label|\n",
            "+----------+-----+\n",
            "|    Sports|  0.0|\n",
            "|  Politics|  3.0|\n",
            "|   Finance|  2.0|\n",
            "|Technology|  1.0|\n",
            "+----------+-----+\n",
            "\n"
          ]
        }
      ]
    },
    {
      "cell_type": "code",
      "source": [
        "#Train Word2Vec Model\n",
        "#import Word2Vec\n",
        "from pyspark.ml.feature import Word2Vec # Import Word2Vec here\n",
        "word2Vec = Word2Vec(vectorSize=100, minCount=1, inputCol=\"lemmatized_words\", outputCol=\"featuresW2Vector\")\n",
        "word2Vec_model = word2Vec.fit(df)\n",
        "df = word2Vec_model.transform(df)\n",
        "\n",
        "df.select(\"text\", \"featuresW2Vector\").show(truncate=False)"
      ],
      "metadata": {
        "colab": {
          "base_uri": "https://localhost:8080/"
        },
        "id": "HO_9GuEJuiom",
        "outputId": "d56fcfcf-24e0-4184-8696-9cb53e7e0324"
      },
      "execution_count": 12,
      "outputs": [
        {
          "output_type": "stream",
          "name": "stdout",
          "text": [
            "+-----------------------------------------------------------------------+---------------------------------------------------------------------------------------------------------------------------------------------------------------------------------------------------------------------------------------------------------------------------------------------------------------------------------------------------------------------------------------------------------------------------------------------------------------------------------------------------------------------------------------------------------------------------------------------------------------------------------------------------------------------------------------------------------------------------------------------------------------------------------------------------------------------------------------------------------------------------------------------------------------------------------------------------------------------------------------------------------------------------------------------------------------------------------------------------------------------------------------------------------------------------------------------------------------------------------------------------------------------------------------------------------------------------------------------------------------------------------------------------------------------------------------------------------------------------------------------------------------------------------------------------------------------------------------------------------------------------------------------------------------------------------------------------------------------------------------------------------------------------------------------------------------------------------------------------------------------------------------------------------------------------------------------------------------------------------------------------------------------------------------------------------------------------------------------------------------------------------------------------------------------------------------------------------------------------------------------------------------------------------------+\n",
            "|text                                                                   |featuresW2Vector                                                                                                                                                                                                                                                                                                                                                                                                                                                                                                                                                                                                                                                                                                                                                                                                                                                                                                                                                                                                                                                                                                                                                                                                                                                                                                                                                                                                                                                                                                                                                                                                                                                                                                                                                                                                                                                                                                                                                                                                                                                                                                                                                                                                                                                                       |\n",
            "+-----------------------------------------------------------------------+---------------------------------------------------------------------------------------------------------------------------------------------------------------------------------------------------------------------------------------------------------------------------------------------------------------------------------------------------------------------------------------------------------------------------------------------------------------------------------------------------------------------------------------------------------------------------------------------------------------------------------------------------------------------------------------------------------------------------------------------------------------------------------------------------------------------------------------------------------------------------------------------------------------------------------------------------------------------------------------------------------------------------------------------------------------------------------------------------------------------------------------------------------------------------------------------------------------------------------------------------------------------------------------------------------------------------------------------------------------------------------------------------------------------------------------------------------------------------------------------------------------------------------------------------------------------------------------------------------------------------------------------------------------------------------------------------------------------------------------------------------------------------------------------------------------------------------------------------------------------------------------------------------------------------------------------------------------------------------------------------------------------------------------------------------------------------------------------------------------------------------------------------------------------------------------------------------------------------------------------------------------------------------------+\n",
            "|Cloud computing is becoming increasingly important for businesses      |[9.326950530521572E-4,4.3364819915344316E-4,0.0011477791146414043,0.001968033049100389,0.0016433665684113898,-8.252493304704936E-4,9.301358950324357E-4,2.3250015995775658E-4,-3.385573994213094E-4,0.0014323757301705578,-1.6593592590652406E-4,-6.61072374593156E-4,0.0018484115328950186,-1.9765744218602777E-4,-6.454937004794676E-4,-8.634691184852272E-4,-3.639155765995383E-4,-4.921885556541383E-5,-1.4919259835248036E-4,-6.412537428938473E-4,8.920944383135065E-4,3.5725334843543044E-4,-0.001416604568172867,-0.0015711159649072215,-5.154321006557439E-4,-0.001122519485458421,-6.44676445517689E-4,-2.17765336856246E-4,-2.6782573938059307E-4,-2.0371960272314027E-4,-1.324379409197718E-4,-1.9854631197328368E-4,8.545034118772794E-4,3.040164980726937E-4,5.131142873627443E-4,-0.002574463452522953,-5.153218711105485E-4,0.001781052560545504,-4.15266656394427E-4,-3.390012328357746E-4,3.841631429774376E-4,-5.38297902191213E-4,2.489330363459885E-4,2.869809153101717E-4,0.00224052924507608,8.024562460680802E-5,-7.50923825156254E-4,0.0016789303869397068,-5.210461289001007E-4,0.0015539436135441065,6.620183121412992E-4,-0.0014202047411041954,0.0015763697617027597,7.788137687991062E-4,0.0018159529039015372,-2.4725362891331315E-4,8.774458741148312E-4,-3.878892481831523E-4,-0.0020589275081874803,-8.140457551538323E-5,-2.713803114602342E-4,3.856811478423575E-5,3.723811705640401E-4,-0.0019198714871890843,4.191206050260613E-4,-6.437151848028103E-4,-8.943769183436718E-4,-9.507742288406007E-5,-0.001440025089929501,0.0016546990470184633,-9.217999177053571E-4,0.002588044008007273,-5.307103274390101E-4,8.83068152082463E-4,0.0012970249711846311,-0.002451846298451225,-7.889587432146072E-4,0.0011767540321064491,0.0019482138644283016,-0.0014377072414693732,4.072747348497311E-5,-7.680805671649674E-4,-0.002790930642125507,-4.104490168780709E-5,7.047139285229301E-4,4.111695452593267E-4,-3.0090917425695807E-4,-9.107251486663396E-4,8.313827565871179E-4,-2.3817362186188498E-4,0.0018290772228889787,0.0017351557883860853,9.343124111182988E-4,6.619746175905068E-4,9.56709108625849E-4,-1.2652770480296263E-4,-6.781374237713559E-4,-0.001376940917301302,5.499612113150457E-4,-0.0011802636339173962]                    |\n",
            "|Basketball players are preparing for the next tournament               |[1.4268390950746834E-4,0.0016958901891484857,0.0012365519854938612,0.0015120617812499405,-0.00217293181194691,0.0019840368535369635,2.0104513969272376E-4,-0.001079531735740602,-0.0017116574803367258,0.0024411239981418477,7.092923624441028E-4,-5.67157263867557E-4,2.3856834741309285E-4,-6.528342026285828E-4,-5.52376569248736E-4,-0.0022119250032119455,-0.0019518884248100222,-6.1501216259785E-5,-9.790750336833299E-5,-6.667603505775333E-4,-0.0026976577646564692,3.43779509421438E-5,-0.0010272567393258215,6.387973204255104E-4,-0.0030314061325043442,0.001747000645264052,5.565420258790255E-4,0.0011961953074205668,-0.0017895765835419298,-0.0012479992095904891,-0.0011004801490344107,-9.110349958064035E-4,-4.726947518065572E-4,-6.159432814456522E-4,-0.0010062653731438332,-2.59393805754371E-4,0.0026152346981689334,-6.270716694416478E-4,0.001391418292769231,-0.0013242979417555035,-0.0011384570971131325,0.0018423780566081405,6.918567320099101E-4,-8.725056715775282E-4,-0.0019981186371296647,-0.001327514508739114,0.002225823421031237,5.521036160644144E-4,-5.954195279628039E-4,-0.0012664857087656856,-4.161887336522341E-4,-0.0022293076384812594,3.0591173563152555E-4,-3.305791644379497E-4,-3.0140042581479066E-4,-9.90625738631934E-4,-0.0011271155963186175,0.0013724372689466692,-6.094104901421815E-4,-8.690713380929083E-4,5.307448795065284E-4,0.0013878149446099998,-4.6920739696361126E-4,4.4460652861744165E-4,0.001118295849300921,-0.0015855566132813694,3.143512411043048E-4,-2.584215882961871E-4,4.0947253582999113E-4,4.86688842647709E-4,6.108507746830583E-4,-0.001030662516131997,-0.0016973557882010938,-4.3386290781199935E-5,-1.2285856064409018E-4,9.85988019965589E-4,3.710707533173263E-4,0.0013122038682922721,-3.444851696258411E-4,-0.0018212550989119337,-8.459392985969317E-4,5.077449699456338E-4,3.4901273029390727E-4,7.554138312116266E-4,-0.0013237127852335107,-1.7213741084560753E-4,-6.683165905997158E-4,-1.113787293434143E-4,-9.382020216435194E-5,-7.679801783524454E-4,-2.9467005515471104E-5,3.081201226450503E-4,4.503050935454667E-4,-0.0012747986358590424,-0.002159205498173833,3.994931874331087E-4,0.0014655815437436106,-2.509414218366146E-4,7.860337384045124E-4,3.047512087505311E-4]    |\n",
            "|Machine learning has revolutionized the way data is processed          |[7.506274923798628E-4,-0.001296221191296354,0.0014553988439729437,0.0027069813028598824,7.479033229174092E-4,-6.701796301058494E-4,9.341019952747349E-4,0.0014395576630098124,-0.0023983156715985388,-1.6353389946743846E-4,-3.768844665804257E-4,-0.0013997428704897175,6.644455182443683E-4,-1.2215505315301317E-4,-5.611636928127457E-4,-0.0022556247422471642,-0.0029886022287731366,0.001031434937128021,9.992182992088297E-4,6.72363171664377E-4,-0.0023995647400928037,5.238075003338356E-4,-4.251433614020546E-4,-0.0023287061746183704,-1.6236201675686363E-4,7.542790845036507E-4,0.0011268988261387372,0.001119852850024472,-1.0118319187313318E-4,0.0018576110596768558,3.098087618127465E-4,1.885748097265605E-4,-2.7154547084743774E-4,5.739572200885352E-4,0.0010030372456337013,0.0010574548020182797,-3.344664874020964E-4,-3.9002233340094483E-4,-8.216706855819211E-4,0.0017620435100980103,-0.002840906721151744,-4.940667689273444E-4,-5.207639624131843E-4,-3.261143671503911E-4,0.0013374906848184764,3.947946631039182E-4,0.0014942294704572607,-7.142790321571131E-4,-0.002272862104291562,-2.1556229330599308E-4,0.0010333117679692805,-0.001138864851479108,1.1663617624435574E-4,-0.0010533939639572054,-0.002088376951481526,1.709531012844915E-4,0.002273345152692248,2.0624443034951884E-4,-7.067740322478736E-4,-2.898937673307955E-4,1.6553988098166883E-4,5.031971328814203E-4,0.0013763047660783436,5.70106281278034E-4,2.6284224683574087E-4,-8.46226466819644E-4,0.0012448922110100586,4.5694112486671656E-4,-5.088697604757423E-4,4.434152894342939E-5,5.564362848720823E-4,-6.915193177216376E-4,0.0024203105058404617,-0.0014990870549809188,0.0013120547949559598,-0.0017426764146269609,-0.001873982041918983,-0.0025960871716961265,0.0012076756199045726,5.349602991676268E-4,-7.536724054565032E-4,-8.305377100441547E-4,-0.0019708459852457354,0.0028237832205680507,0.0011924595407132679,-3.7799276954804856E-4,-8.530431659892201E-4,0.0010521082585910335,0.002603019995149225,-0.001330699039196285,8.632915948207179E-4,-0.001131655890882636,4.788211081176996E-4,0.0035623431322164834,0.0015327164461875022,0.0020312456084260093,0.001198770497770359,-1.2532184094501037E-4,5.543552882348497E-4,9.156155720120296E-4]        |\n",
            "|Political campaigns are gearing up for the upcoming elections          |[7.175004691816867E-4,-8.96886200644076E-4,-3.515281539876014E-4,-0.0013084519239782823,-0.003416266094427556,9.961193311028183E-4,-9.835482924245298E-4,-0.0015377280593384059,3.794315562117845E-4,-5.478007718920707E-4,0.0015943664126098157,-7.371238083578647E-4,1.6589473234489562E-4,-4.8587234123260715E-4,0.0014014944899827242,8.305266266688705E-4,0.001224847126286477,9.99232241883874E-4,-5.902050470467657E-4,-0.0017286173009779305,-0.002214482962153852,0.0019489123136736453,4.933942000207026E-4,-0.0024766510352492335,-1.6958556952886286E-4,-9.066948667168618E-4,4.802365670911968E-4,-7.187964161857963E-4,0.0015479824563954026,0.0014286350517068059,-0.0021617030841298403,-0.0015999098868633155,1.5241427299770294E-4,0.0016159515827894211,6.84135826304555E-5,3.2250635558739305E-4,-0.0023967452318174767,1.918320660479367E-4,5.9710739296861E-4,-2.282534493133426E-4,-0.0017382215533871205,-2.976282499730587E-4,0.001205795689020306,0.0012158951023593545,5.411721765995026E-4,-6.0883443802595144E-5,0.002191535639576614,-0.0014080145861953498,0.0014143695123493673,-0.0019200116192223506,8.670921761222417E-4,2.3560645058751106E-4,-4.2498761322349313E-4,-0.0014461359940469267,0.001018526521511376,-0.0022628524340689185,-9.59883676841855E-4,2.731445711106062E-4,-5.23502379655838E-4,2.953220158815384E-4,0.0017330571310594678,-5.049287341535091E-4,0.0018128498340956867,7.329857908189297E-4,-0.002244736719876528,-7.479327498003841E-4,0.0030111578875221313,0.0015810740180313588,-0.0017175112967379392,0.0018847128609195353,-0.004227270791307092,0.0015346513362601401,9.727595839649439E-4,3.09374718926847E-4,6.429468747228385E-4,-0.0024776137899607423,-0.0021042451960965993,5.2001513540744786E-5,-2.2778199054300787E-4,-6.489400460850448E-4,-0.0016010348219424487,-3.469807095825672E-4,5.082935327664018E-4,0.0013110382249578835,7.251421688124538E-4,-0.0018199440208263697,-6.167794461362065E-4,-3.5934470361098647E-4,0.001628003310179338,-5.240712373051793E-4,4.98277711449191E-4,-0.0013842122163623572,-0.0019519812485668808,-1.666257390752435E-4,5.388733465224504E-4,8.207777049392463E-4,-0.0019748095539398494,3.6087571643292907E-4,-2.7152455877512696E-4,0.0024629140592878685]        |\n",
            "|The football team has been training hard for the upcoming season       |[9.333249181509018E-4,-0.0015295028594361306,2.026185005282362E-4,-0.002679140675657739,2.6285524654667825E-4,7.578061486128718E-4,3.545987516796837E-4,-4.233230138197541E-4,-2.664690885770445E-4,-2.2026409472649294E-4,-5.814861894274751E-5,-0.0016740825667511672,-0.0011726244896029432,-0.001029173359484048,1.8206463816265263E-5,0.001424517404908935,2.4280840686211982E-4,-4.361408282420598E-4,-6.218372921769817E-5,5.11807845517372E-4,-0.0015025451915183414,7.29263110163932E-4,-5.372357312201832E-4,-0.0011740676709450781,-2.2382419895924005E-4,-3.671797167044133E-4,5.398123757913709E-4,-0.0010384405904915184,-8.93812005718549E-5,0.0025723736422757306,2.2086699027568102E-4,-0.0010702184323842325,-3.820449152650932E-4,-3.9450008868395037E-4,4.873730710338956E-4,6.182739161886275E-4,-5.749159026890993E-4,1.7599551453410336E-4,8.539161693382387E-4,-5.74904668610543E-4,-6.970236960720891E-4,7.393260942383979E-4,-8.200300168634082E-4,9.911605545009174E-4,-4.8282373851786054E-4,-6.985931152788301E-4,2.1860410925000906E-5,-1.3423501513898373E-5,0.0015272396461417277,3.095707446239733E-4,2.4342185740048686E-4,7.092542364262044E-5,4.806862367937962E-4,-0.0013349405489861965,0.001485044068734472,-1.0056159226223826E-5,-0.0019718369367183186,-1.4987329389744747E-4,4.3541331130351557E-4,5.232008600917955E-4,4.754110414069146E-4,-0.0011334519949741662,7.964824908412993E-5,-0.0016072046710178256,-0.002572813174386586,4.463607619982213E-4,-1.1492912259806568E-5,-0.0012221889519423712,5.540379788726568E-5,-8.082848507910967E-4,1.7819284888294834E-4,8.7025289152128E-5,2.85686789235721E-4,0.0025284026050940156,-0.002287434312165715,-3.2959117864569026E-4,7.120239024516195E-5,0.0011488249632141863,0.001546802527930898,0.0014017365513912712,-0.001070590738284712,-0.0012544447405768246,8.093451421397427E-4,-2.106242657949527E-4,-3.9819478600596386E-4,-2.6330992113798857E-5,5.855448155974348E-6,-2.3096039421943715E-4,2.1874632996817428E-4,0.0021170018978106477,-0.001047444335805873,7.748386378807481E-4,7.635467142487565E-4,-1.0548359326397379E-4,-0.0010765638435259461,3.019688301719725E-4,0.0012328212227051456,-1.4545147617657978E-4,1.8270131840836257E-4,-0.001026374229695648]        |\n",
            "|International relations are being discussed in diplomatic meetings     |[3.552311100065708E-5,3.3309212885797025E-4,-8.152579608577071E-4,0.001057879011204932,6.127225467935205E-4,-9.345891885459423E-5,1.9250254845246673E-4,-0.001980232330970466,7.054433692246676E-4,4.578813794068992E-4,0.00213584927842021,0.001330897433217615,-2.1517830900847913E-4,0.0028253658325411383,-1.1936752707697451E-4,5.990403762552888E-4,0.0017724870587699116,-5.100538372062147E-4,-0.0018400381144601853,0.0015122565382625908,3.7501244878512807E-4,-2.2756773978471756E-4,-0.0010121508821612224,1.4051483012735843E-4,-0.0019886606954969467,-6.017531617544592E-4,0.0010129808099009097,0.0014529861393384636,0.0022599306888878346,-0.001228540565352887,2.9654216486960653E-4,1.3813383411616088E-4,0.0015249115880578757,-4.134723567403853E-4,2.772450912743807E-4,3.557085001375526E-4,6.549471872858703E-4,1.0617674561217428E-4,-0.0012376295635476708,-4.367100773379207E-5,-0.002577274083159864,-8.298638858832419E-4,-1.0419327300041914E-4,-0.002769408002495766,1.8996652215719223E-5,5.903199315071107E-4,3.707647731062025E-4,-4.145840415731073E-4,0.0012684344372246416,2.969581400975585E-5,-0.0018016225891187788,-9.506930946372449E-4,8.758550044149161E-4,9.584620827808977E-4,2.730855776462704E-4,0.0028005335479974747,-8.377426187507809E-4,3.417441359488294E-4,7.139745197491721E-4,0.001247029984369874,-0.0019162270647939295,6.202011747518555E-4,2.336803278012667E-4,-7.451071753166616E-4,9.441218717256562E-5,-0.0024424001952866093,2.5238536763936284E-4,3.145606417092495E-4,-0.002631825912976638,1.8076543346978724E-4,-5.896129528991878E-4,4.733787383884192E-4,-6.991524976911024E-4,-6.299342232523486E-4,3.586148872273043E-4,-4.6798402909189465E-4,8.64393450319767E-4,-8.163767866790295E-4,7.127846241928638E-4,-3.392033744603396E-4,0.0013580680126324296,-6.51607196778059E-4,0.0011325238825520502,5.885849590413273E-4,1.9305836030980575E-5,-1.2125301291234792E-4,2.703641075640917E-6,0.0010489611886441708,0.0020464724162593483,6.217238027602435E-4,-0.0014050497673451902,-1.984480768442154E-4,0.0013239342257293175,0.002081065136007965,-0.0025706053012982013,2.64996723853983E-4,-0.0012361247790977359,-0.001503848598804325,-9.606188163161279E-4,-0.0022973299433942883]                  |\n",
            "|The president addressed the nation in a live broadcast                 |[-1.1714451829902828E-4,-6.773024229914882E-4,0.0010476329072844238,-9.653136396082119E-4,7.947684964165092E-4,-4.311494529247284E-4,-0.0025196128757670523,-2.132824156433344E-5,-1.2365952134132385E-4,-0.001348400814458728,0.002327790856361389,-6.124577485024929E-4,-0.0010302318507456221,2.597455168142915E-4,-5.193311895709485E-4,0.0013403568067587913,-5.16248750500381E-4,-0.0011728208977729083,7.112894032616168E-4,2.2659085225313903E-4,-0.0015884975669905545,-1.1245012283325196E-4,2.2830822854302824E-4,3.799229860305786E-4,0.0011368639185093345,-0.002109202172141522,-9.460118206334301E-4,0.001298085514281411,0.0017191833350807429,5.015410482883453E-4,5.772286676801741E-4,-6.941232713870704E-5,4.858900734689087E-4,0.0016980822780169548,-0.0014729855582118036,8.177896612323821E-4,-5.768680945038796E-4,-1.4512077905237675E-5,0.0013341675163246693,-1.1531262425705791E-4,-1.0694703087210655E-4,-9.025689214468002E-4,4.974803887307644E-4,-0.0011863940657349304,-7.786423724610359E-4,2.6543213753029706E-4,9.647629689425231E-4,5.896884482353926E-4,-1.4019263908267022E-4,-6.580352550372482E-4,0.00314171703212196,-8.39925347827375E-4,7.307954831048847E-4,0.0020903977565467358,-0.0022240014048293235,1.9275088561698794E-4,0.001037073670886457,-8.420868864050135E-4,5.007584375562147E-4,-0.0011489478405565024,-4.560179077088833E-4,-0.0014557098969817162,-5.133393118740059E-4,0.001289168221410364,4.3638870120048527E-4,-2.713662906899117E-4,-0.001150074158795178,-9.815074736252428E-6,4.009316908195615E-4,0.0017267038536374459,0.0013866847380995752,-0.0023929613642394544,7.951182313263417E-4,0.0014447863795794547,0.0015988171100616456,1.2771640904247762E-4,-2.4541566963307563E-4,-0.0019685878869495355,-9.904753882437945E-4,-5.948757752776146E-4,-0.0015099134063348175,-0.0021937836892902854,0.0010992083931341769,-7.852871262002737E-4,3.034919500350952E-4,-4.349183756858111E-4,-5.760563770309091E-4,2.989765722304583E-4,-6.805379875004292E-4,2.0944721800333357E-4,-3.602202341426164E-4,0.0018655050778761508,-0.0029133690288290384,6.645048153586686E-4,3.022046497790143E-4,-9.505430585704744E-4,3.2798223837744446E-4,2.526789554394782E-4,-2.238795510493219E-4,1.9965888932347298E-4]    |\n",
            "|Tennis players are practicing for the grand slam matches               |[-5.525900693707323E-4,-1.3246951857581735E-4,9.083324318150213E-4,-2.1409508190117776E-4,4.2325968388468027E-4,-1.230214062767724E-4,-8.814320414482305E-4,-0.002322846228101601,-0.0016581669721441963,-0.0014232217484580663,-4.738056886708364E-4,1.3261854959030944E-4,-9.828581532929093E-4,-0.0015906629269011319,-6.687409889612657E-4,2.8708773121858633E-4,-0.0014968480099923909,-7.599323774532725E-4,-9.463643655180931E-4,-9.612446495642264E-4,-0.0010485243207464614,0.0024354536241541305,0.0016223092388827354,6.683609293152888E-5,-0.0012041121760072806,6.072180597887684E-4,5.349647544790059E-4,2.4623956657402835E-4,-6.427018670365214E-4,0.0011156026448588818,0.0015469491093729932,0.001807647281869625,-0.0012114153942093253,-0.001325665885815397,-0.0011381966372330983,2.478120950399898E-4,5.476740091883887E-4,0.0015913444464482986,-0.0010899084930618603,0.0014071817859075963,-1.5273811004590243E-4,-2.2336916542068744E-4,0.0016621381316023567,-0.002191911718303648,-7.94068231092145E-4,0.0011455045314505696,0.0010652398559614085,5.457215835728372E-4,6.431898994681735E-4,-2.8384175190391636E-4,8.683608418020109E-4,-0.0015062846941873431,0.001753923817886971,-8.986475295387208E-4,-0.0021728452938987175,-8.421876894620557E-4,-1.452859869459644E-4,0.0015122538316063583,-0.0022912278849010663,0.001093366532586515,4.1819619946181774E-4,-8.81438883273707E-4,0.002841790730599314,-9.190786367980763E-4,-0.0017597060650587082,-7.2707839232559E-5,-8.188290909553567E-4,2.147348092573035E-4,-0.0013302165801481654,-0.0027526310101772347,5.782704877977569E-4,4.176408789741496E-4,9.223489323630929E-4,3.374540198516721E-4,0.0011472069503118594,-3.403847222216427E-5,-0.001243821156094782,0.003027515345214245,-7.906732013604293E-4,-0.0014772310387343168,3.87275761871327E-4,-0.0017247851161907115,6.272470382100437E-4,7.260590403651197E-4,-3.3978974291433886E-5,0.0022413732949644327,-1.0228852139941105E-4,-0.002475278665466855,-0.001720337439716483,-8.88059281957491E-4,4.7710128516579664E-4,-5.205277993809432E-4,-5.381604423746467E-4,-1.9153376342728734E-5,-5.829593574162573E-4,-3.538158683416744E-4,1.5735194513884682E-5,-0.0023518452847686904,1.7458543879911304E-5,1.0208290768787265E-4]|\n",
            "|Machine learning has revolutionized the way data is processed          |[7.506274923798628E-4,-0.001296221191296354,0.0014553988439729437,0.0027069813028598824,7.479033229174092E-4,-6.701796301058494E-4,9.341019952747349E-4,0.0014395576630098124,-0.0023983156715985388,-1.6353389946743846E-4,-3.768844665804257E-4,-0.0013997428704897175,6.644455182443683E-4,-1.2215505315301317E-4,-5.611636928127457E-4,-0.0022556247422471642,-0.0029886022287731366,0.001031434937128021,9.992182992088297E-4,6.72363171664377E-4,-0.0023995647400928037,5.238075003338356E-4,-4.251433614020546E-4,-0.0023287061746183704,-1.6236201675686363E-4,7.542790845036507E-4,0.0011268988261387372,0.001119852850024472,-1.0118319187313318E-4,0.0018576110596768558,3.098087618127465E-4,1.885748097265605E-4,-2.7154547084743774E-4,5.739572200885352E-4,0.0010030372456337013,0.0010574548020182797,-3.344664874020964E-4,-3.9002233340094483E-4,-8.216706855819211E-4,0.0017620435100980103,-0.002840906721151744,-4.940667689273444E-4,-5.207639624131843E-4,-3.261143671503911E-4,0.0013374906848184764,3.947946631039182E-4,0.0014942294704572607,-7.142790321571131E-4,-0.002272862104291562,-2.1556229330599308E-4,0.0010333117679692805,-0.001138864851479108,1.1663617624435574E-4,-0.0010533939639572054,-0.002088376951481526,1.709531012844915E-4,0.002273345152692248,2.0624443034951884E-4,-7.067740322478736E-4,-2.898937673307955E-4,1.6553988098166883E-4,5.031971328814203E-4,0.0013763047660783436,5.70106281278034E-4,2.6284224683574087E-4,-8.46226466819644E-4,0.0012448922110100586,4.5694112486671656E-4,-5.088697604757423E-4,4.434152894342939E-5,5.564362848720823E-4,-6.915193177216376E-4,0.0024203105058404617,-0.0014990870549809188,0.0013120547949559598,-0.0017426764146269609,-0.001873982041918983,-0.0025960871716961265,0.0012076756199045726,5.349602991676268E-4,-7.536724054565032E-4,-8.305377100441547E-4,-0.0019708459852457354,0.0028237832205680507,0.0011924595407132679,-3.7799276954804856E-4,-8.530431659892201E-4,0.0010521082585910335,0.002603019995149225,-0.001330699039196285,8.632915948207179E-4,-0.001131655890882636,4.788211081176996E-4,0.0035623431322164834,0.0015327164461875022,0.0020312456084260093,0.001198770497770359,-1.2532184094501037E-4,5.543552882348497E-4,9.156155720120296E-4]        |\n",
            "|Stock trading has become a popular way to build wealth                 |[-0.0010653007941852722,-8.841929957270622E-5,-3.830978551247556E-4,-1.6144086008093185E-4,0.0016232852878082277,-7.403465174970084E-4,-3.5831163404509425E-4,0.0019031134434044361,7.975076202585893E-4,-3.4169963328167796E-4,-9.79875139559486E-4,-2.632825884834996E-4,-0.0018510398222133517,4.7839886974543333E-4,9.982984546305876E-4,-5.530858512169548E-4,-0.0016713851863252264,-0.0011546507677329437,-5.506327309246574E-4,-0.0010919854809929217,4.449225447647872E-5,4.8413881034191163E-4,-4.45792983685221E-4,-5.489253380801529E-4,5.15920143308384E-4,0.002155182700205062,0.0026691415031174465,0.0011239791305602662,4.515765467658639E-4,-9.328893751704266E-4,-5.844228185846337E-4,-0.002091022615786642,-1.9845120342714445E-5,7.427004664870245E-4,-9.115615518697137E-4,3.1959618874160303E-4,-5.578294512815773E-4,-0.002498013554681425,0.0012331680822431476,-7.256351943526948E-4,4.542379423842898E-4,5.900805616485221E-4,7.675273601697492E-5,9.372572697299932E-4,-0.001551442634081468,6.136724259704351E-4,-5.146405726139035E-4,-3.902906485434089E-4,-0.0031865542696323246,0.0012784275542279439,-8.480708015018275E-4,7.934665565179394E-4,-6.896328829628016E-4,0.0011782544689984725,-6.548889359692112E-6,-2.960142280374254E-6,0.0015836789472294705,0.0021598315631438576,-4.556148134205224E-4,-0.0012825597327069513,-4.253140650689602E-5,-2.3128790573017404E-4,0.003130291987742696,-4.6201700128481856E-4,-5.350013920438608E-4,-6.017066604856934E-4,9.799314346829694E-4,4.8807867070926083E-4,0.001214435024719153,3.198523689726634E-4,-0.00196367986167648,-0.0011751893699900912,0.002278773563115724,-0.0015134605678862759,0.001248674259321498,-0.001040385919623077,-3.505980036736998E-4,5.542684812098742E-4,7.232428698833765E-4,-0.0015452641694407377,-7.41193486776735E-4,-5.478899943877227E-4,-0.0015027641701245945,-2.0308000135368533E-4,0.0018067386034610014,5.366362706159374E-4,-9.541067161730357E-4,1.5883553507072584E-4,4.266443429514766E-4,-3.632745356298983E-4,0.0012552056328526565,-0.0018602021737024188,5.517844193881111E-4,0.003456389631277748,7.072963552283389E-4,0.001726764071333621,5.196001605197255E-4,-0.0020958779038794868,0.0011883964013707424,-0.0010960453156647937]          |\n",
            "|5G technology is expected to significantly improve communication speeds|[-0.00117891000783337,0.0014329580257513692,-0.0012252045229875616,-7.237254508904048E-4,-2.3491612435983758E-4,6.67032552883029E-4,-3.681165814798857E-4,0.0017641552590898105,-0.0018245250186217682,0.001070381922805349,7.676572048304868E-4,0.0017816395141250852,-3.879096475429833E-4,1.9483041251078248E-4,7.875564874016812E-4,3.9566334869180404E-4,-4.6334760346716E-4,-3.0076210428628007E-4,-3.5971219975700866E-4,-6.700790420706783E-4,0.0014671600627999784,-2.8834920833885135E-4,-5.07785449631878E-4,4.4962155724143874E-4,2.690631996041962E-4,-9.916078540430005E-5,0.001070039313552635,-4.777317683744643E-5,-0.0011057255989206688,1.2740620877593756E-4,4.927868306237672E-4,-1.0564920324083816E-4,-4.926922764363033E-4,5.251777308460857E-4,5.573438996049974E-4,-2.008355555257627E-4,7.134841497255755E-4,-8.200863677692333E-4,-8.393237699887582E-4,-0.0010201041170928094,0.0016374017743925962,-0.0012402763074663068,6.435244618582406E-4,-7.26430452362235E-4,3.5228527849540114E-4,-1.8549201610897266E-5,1.4317959513781325E-4,8.47657726678465E-4,1.9330461067771206E-4,-0.0018584114066990357,-4.65830646654857E-4,-0.0025472368911973065,1.1786208155431917E-4,-4.093741050123104E-5,-0.002320625594750579,0.001033208380769273,0.0011649156305273728,-2.489795026901577E-4,0.0014724008589317755,-0.0011833290835576396,-5.280437513387629E-4,-7.045874600797625E-4,1.7423363169655204E-4,5.593757627398839E-4,-6.933773568432246E-4,-0.0012745764605434876,5.958187227536525E-4,7.30871272805546E-4,9.255713209443326E-4,4.531756941495197E-4,0.0020443255239765024,7.32387657210763E-4,0.0016104822113577808,-0.0012108262952616703,0.0017988156261188643,9.108505910262465E-4,0.001471726780956877,-0.0021734572115487284,1.5838337796075002E-4,-1.9770546350628138E-4,-3.569870023056865E-4,-5.845499940083494E-4,9.075178365622247E-4,-1.0549491603991814E-4,0.0023335578152909875,8.287883746171636E-4,-7.695066867329711E-4,-0.0010362213173980958,-0.0021424246453014867,-6.675887603445777E-4,-0.0010203142051718064,0.0020015199968059145,-0.0015229232667479664,0.0013847221686903919,-7.687645640024649E-4,0.0013275114885930503,0.0017856880190915295,-0.0011251594239313687,7.644630932190921E-4,0.0015190992105220044]        |\n",
            "|Political campaigns are gearing up for the upcoming elections          |[7.175004691816867E-4,-8.96886200644076E-4,-3.515281539876014E-4,-0.0013084519239782823,-0.003416266094427556,9.961193311028183E-4,-9.835482924245298E-4,-0.0015377280593384059,3.794315562117845E-4,-5.478007718920707E-4,0.0015943664126098157,-7.371238083578647E-4,1.6589473234489562E-4,-4.8587234123260715E-4,0.0014014944899827242,8.305266266688705E-4,0.001224847126286477,9.99232241883874E-4,-5.902050470467657E-4,-0.0017286173009779305,-0.002214482962153852,0.0019489123136736453,4.933942000207026E-4,-0.0024766510352492335,-1.6958556952886286E-4,-9.066948667168618E-4,4.802365670911968E-4,-7.187964161857963E-4,0.0015479824563954026,0.0014286350517068059,-0.0021617030841298403,-0.0015999098868633155,1.5241427299770294E-4,0.0016159515827894211,6.84135826304555E-5,3.2250635558739305E-4,-0.0023967452318174767,1.918320660479367E-4,5.9710739296861E-4,-2.282534493133426E-4,-0.0017382215533871205,-2.976282499730587E-4,0.001205795689020306,0.0012158951023593545,5.411721765995026E-4,-6.0883443802595144E-5,0.002191535639576614,-0.0014080145861953498,0.0014143695123493673,-0.0019200116192223506,8.670921761222417E-4,2.3560645058751106E-4,-4.2498761322349313E-4,-0.0014461359940469267,0.001018526521511376,-0.0022628524340689185,-9.59883676841855E-4,2.731445711106062E-4,-5.23502379655838E-4,2.953220158815384E-4,0.0017330571310594678,-5.049287341535091E-4,0.0018128498340956867,7.329857908189297E-4,-0.002244736719876528,-7.479327498003841E-4,0.0030111578875221313,0.0015810740180313588,-0.0017175112967379392,0.0018847128609195353,-0.004227270791307092,0.0015346513362601401,9.727595839649439E-4,3.09374718926847E-4,6.429468747228385E-4,-0.0024776137899607423,-0.0021042451960965993,5.2001513540744786E-5,-2.2778199054300787E-4,-6.489400460850448E-4,-0.0016010348219424487,-3.469807095825672E-4,5.082935327664018E-4,0.0013110382249578835,7.251421688124538E-4,-0.0018199440208263697,-6.167794461362065E-4,-3.5934470361098647E-4,0.001628003310179338,-5.240712373051793E-4,4.98277711449191E-4,-0.0013842122163623572,-0.0019519812485668808,-1.666257390752435E-4,5.388733465224504E-4,8.207777049392463E-4,-0.0019748095539398494,3.6087571643292907E-4,-2.7152455877512696E-4,0.0024629140592878685]        |\n",
            "|Machine learning has revolutionized the way data is processed          |[7.506274923798628E-4,-0.001296221191296354,0.0014553988439729437,0.0027069813028598824,7.479033229174092E-4,-6.701796301058494E-4,9.341019952747349E-4,0.0014395576630098124,-0.0023983156715985388,-1.6353389946743846E-4,-3.768844665804257E-4,-0.0013997428704897175,6.644455182443683E-4,-1.2215505315301317E-4,-5.611636928127457E-4,-0.0022556247422471642,-0.0029886022287731366,0.001031434937128021,9.992182992088297E-4,6.72363171664377E-4,-0.0023995647400928037,5.238075003338356E-4,-4.251433614020546E-4,-0.0023287061746183704,-1.6236201675686363E-4,7.542790845036507E-4,0.0011268988261387372,0.001119852850024472,-1.0118319187313318E-4,0.0018576110596768558,3.098087618127465E-4,1.885748097265605E-4,-2.7154547084743774E-4,5.739572200885352E-4,0.0010030372456337013,0.0010574548020182797,-3.344664874020964E-4,-3.9002233340094483E-4,-8.216706855819211E-4,0.0017620435100980103,-0.002840906721151744,-4.940667689273444E-4,-5.207639624131843E-4,-3.261143671503911E-4,0.0013374906848184764,3.947946631039182E-4,0.0014942294704572607,-7.142790321571131E-4,-0.002272862104291562,-2.1556229330599308E-4,0.0010333117679692805,-0.001138864851479108,1.1663617624435574E-4,-0.0010533939639572054,-0.002088376951481526,1.709531012844915E-4,0.002273345152692248,2.0624443034951884E-4,-7.067740322478736E-4,-2.898937673307955E-4,1.6553988098166883E-4,5.031971328814203E-4,0.0013763047660783436,5.70106281278034E-4,2.6284224683574087E-4,-8.46226466819644E-4,0.0012448922110100586,4.5694112486671656E-4,-5.088697604757423E-4,4.434152894342939E-5,5.564362848720823E-4,-6.915193177216376E-4,0.0024203105058404617,-0.0014990870549809188,0.0013120547949559598,-0.0017426764146269609,-0.001873982041918983,-0.0025960871716961265,0.0012076756199045726,5.349602991676268E-4,-7.536724054565032E-4,-8.305377100441547E-4,-0.0019708459852457354,0.0028237832205680507,0.0011924595407132679,-3.7799276954804856E-4,-8.530431659892201E-4,0.0010521082585910335,0.002603019995149225,-0.001330699039196285,8.632915948207179E-4,-0.001131655890882636,4.788211081176996E-4,0.0035623431322164834,0.0015327164461875022,0.0020312456084260093,0.001198770497770359,-1.2532184094501037E-4,5.543552882348497E-4,9.156155720120296E-4]        |\n",
            "|Investors are looking for high-yield bonds in the current market       |[-0.0020993081852793694,5.338927197347705E-5,-0.001462569993843014,-4.8103781106571354E-5,-0.0011873147304868326,-0.0018988264491781592,0.0018822614025945463,8.125940245615008E-4,-1.2017965006331602E-4,2.218260124209337E-4,-4.830772910887996E-4,-2.249127913576861E-4,-1.5260455256793648E-4,-0.0010786835531083245,1.0697032363774875E-4,2.897391483808557E-4,0.0010773557417754394,-0.001377401189529337,5.390909791458398E-6,0.0013622759530941644,6.883071522073199E-4,-0.0013045687713505079,1.8132766126655042E-4,0.0018978074222104624,0.001466173348793139,-0.0027797725742857438,-0.0011019055576374133,-5.785790854133666E-4,7.54650691912199E-4,-0.001222005773646136,5.121006979607046E-4,0.0018612809750872352,0.0018455128592904657,3.615129826357588E-4,-8.39900370920077E-4,-4.212366184219718E-4,-0.0020406299736350775,8.307720515100906E-4,4.1752876131795347E-4,-0.001867452791581551,-5.556255928240716E-4,6.02270825766027E-4,-1.7084328768153984E-4,5.462294454143072E-4,0.0015624416021940608,-7.38295503348733E-4,-1.8127341172657907E-4,-0.0010813720679531493,-5.623418449734647E-4,9.445620817132294E-4,0.0019475889663832882,3.067859070142731E-4,0.0011412299063522369,-0.003188737668097019,-8.852642980248977E-4,8.080322974516699E-4,0.0011723373415103802,0.0015152840254207451,2.0822093453413496E-4,8.912029055257638E-4,0.0012985063561548789,-4.517775111404868E-5,0.0011650292435660958,5.3759060392621905E-5,-0.0014055653470374332,-3.565588704077527E-4,0.001806440341169946,0.0013752177571101734,-2.5039666797965765E-4,8.619706204626709E-4,7.499194277140001E-4,4.264343345615392E-4,-0.0013690813890813538,-4.1680246067699045E-4,6.243466147376845E-4,8.449693608175342E-4,9.462257973306501E-6,3.027276373662365E-4,-0.0010024693328887224,-8.787033342135448E-6,2.51280745336165E-4,-0.0012701066055645545,0.0012793979064250984,0.001101090167746103,0.0020186029529819884,0.0019182738615199924,8.931844179945376E-4,-4.3182677169776675E-5,9.490851734881289E-4,0.002972782201444109,0.002678009196339796,-1.2045458424836397E-4,-6.07501317669327E-4,-7.376829259252796E-4,-2.6861100923269987E-4,-0.002068327322679882,3.771931612088034E-4,8.298896136693656E-5,-0.0018553676054580137,-9.101799981484267E-4]             |\n",
            "|Quantum computing holds promise for solving complex problems           |[-0.0011223159443553802,-2.1674436616844363E-4,-0.0011614817797505695,1.9731479031699043E-4,0.00232129092494558,7.95475612643973E-4,7.37610223170902E-5,6.423369798410152E-4,-6.858043156431189E-4,-1.116937242581376E-4,8.524198326215679E-4,-8.656942393697266E-4,4.529691068455577E-4,0.0014683248643580424,4.3925383319479546E-4,-2.2331175672921484E-4,-5.32082697775747E-4,0.0018516833910585512,0.0019436767200074557,-3.765004907368815E-4,-9.432634916655453E-4,3.290756805134671E-4,1.7721901947100247E-4,4.406744015536138E-6,-0.0015935248718181225,9.324033370441091E-4,-0.001691300022814955,2.856733577313467E-4,1.2382836264025952E-4,-8.159934410027095E-4,-0.0011046043946407735,9.238011428221528E-4,0.0023303369317935513,0.0021045196772320196,7.651751641658068E-4,-8.061178211521889E-4,-3.9021398073860576E-4,7.574193961253123E-4,0.0015484357718378305,-9.580435393477922E-5,5.979895275751394E-4,2.227734408474394E-5,-2.4528471112716943E-4,-0.0015874049027583428,3.578739041196448E-4,3.484196204226464E-4,8.717607353381546E-4,-6.165499965261136E-4,0.0013002894681579033,-1.9605606628049697E-4,-1.9733052509504235E-4,9.416944147752864E-4,0.0011670710997090542,0.001152729066754026,2.118650507847113E-4,-0.0011678019654937088,6.686470171968852E-4,3.8984532667590035E-4,4.347730635864926E-4,-4.6408752677962184E-4,-0.0019052056429375494,-9.871147257009786E-4,-1.429581105704918E-4,-0.0013801531084547084,-0.0011793945866104747,-0.001651264211562063,-4.4923924100917896E-4,-6.96394671519686E-4,-0.001017288487803723,1.1916579595500869E-4,-0.0013184935419953295,2.969222259707749E-4,0.001635032024101487,-5.887960401845963E-4,5.364645621739328E-4,-3.642767634508865E-4,0.0015857438640003757,3.2382996453504476E-5,1.0459018605095999E-5,-6.686586337829274E-4,7.358987682632037E-4,-0.0017571692172038767,-0.001406664540159649,-0.002236498488595576,-8.875994327744202E-5,-5.931245063298515E-5,1.183835556730628E-4,9.977421432267874E-4,5.448346975234536E-4,-1.0409266438468226E-4,0.0018675307759882082,-3.3380085369572043E-4,2.510425921562793E-4,7.629774460968161E-4,-8.510152698103671E-4,0.001478442402523277,1.1432971223257482E-4,8.754176087677479E-5,0.0013733912325863326,7.331034368170159E-4]                 |\n",
            "|Cloud computing is becoming increasingly important for businesses      |[9.326950530521572E-4,4.3364819915344316E-4,0.0011477791146414043,0.001968033049100389,0.0016433665684113898,-8.252493304704936E-4,9.301358950324357E-4,2.3250015995775658E-4,-3.385573994213094E-4,0.0014323757301705578,-1.6593592590652406E-4,-6.61072374593156E-4,0.0018484115328950186,-1.9765744218602777E-4,-6.454937004794676E-4,-8.634691184852272E-4,-3.639155765995383E-4,-4.921885556541383E-5,-1.4919259835248036E-4,-6.412537428938473E-4,8.920944383135065E-4,3.5725334843543044E-4,-0.001416604568172867,-0.0015711159649072215,-5.154321006557439E-4,-0.001122519485458421,-6.44676445517689E-4,-2.17765336856246E-4,-2.6782573938059307E-4,-2.0371960272314027E-4,-1.324379409197718E-4,-1.9854631197328368E-4,8.545034118772794E-4,3.040164980726937E-4,5.131142873627443E-4,-0.002574463452522953,-5.153218711105485E-4,0.001781052560545504,-4.15266656394427E-4,-3.390012328357746E-4,3.841631429774376E-4,-5.38297902191213E-4,2.489330363459885E-4,2.869809153101717E-4,0.00224052924507608,8.024562460680802E-5,-7.50923825156254E-4,0.0016789303869397068,-5.210461289001007E-4,0.0015539436135441065,6.620183121412992E-4,-0.0014202047411041954,0.0015763697617027597,7.788137687991062E-4,0.0018159529039015372,-2.4725362891331315E-4,8.774458741148312E-4,-3.878892481831523E-4,-0.0020589275081874803,-8.140457551538323E-5,-2.713803114602342E-4,3.856811478423575E-5,3.723811705640401E-4,-0.0019198714871890843,4.191206050260613E-4,-6.437151848028103E-4,-8.943769183436718E-4,-9.507742288406007E-5,-0.001440025089929501,0.0016546990470184633,-9.217999177053571E-4,0.002588044008007273,-5.307103274390101E-4,8.83068152082463E-4,0.0012970249711846311,-0.002451846298451225,-7.889587432146072E-4,0.0011767540321064491,0.0019482138644283016,-0.0014377072414693732,4.072747348497311E-5,-7.680805671649674E-4,-0.002790930642125507,-4.104490168780709E-5,7.047139285229301E-4,4.111695452593267E-4,-3.0090917425695807E-4,-9.107251486663396E-4,8.313827565871179E-4,-2.3817362186188498E-4,0.0018290772228889787,0.0017351557883860853,9.343124111182988E-4,6.619746175905068E-4,9.56709108625849E-4,-1.2652770480296263E-4,-6.781374237713559E-4,-0.001376940917301302,5.499612113150457E-4,-0.0011802636339173962]                    |\n",
            "|The Formula 1 race track is set to host the next grand prix            |[-0.001958135521918949,0.0027774968701932165,-1.6811050914434923E-4,9.03017485850594E-4,-4.751409998991423E-4,0.0016234509433464457,0.0017712920283277829,5.442408146336675E-4,-3.009808133356273E-4,-7.605252095446404E-4,-0.002146856632963237,-0.0013610204720559218,-8.251907420344651E-4,-7.374984108739429E-4,-5.166378751811053E-4,-0.0011133011462839528,-6.056334305968549E-4,0.0012844743113318044,-8.835938836758335E-4,-0.0015723235297223758,0.0015370644687209278,8.50858552439604E-4,-0.0012562461682440091,3.86067750191109E-4,4.95349154031525E-4,8.208610476382697E-4,-6.861057999129924E-4,-7.315069831545568E-4,1.8469862051359893E-4,-2.7260000165875274E-4,0.0015381119705529676,6.791584423303397E-4,2.3170691888986362E-4,-0.0011307720172529419,3.6367781770726043E-4,-6.521150806090898E-4,-0.0012766142608597875,-1.419497615036865E-4,4.778559216194682E-5,3.103036174757613E-4,0.001904837761281265,0.00168281742824345,-3.124931245110929E-4,-8.178469983653889E-5,-2.91992955478943E-4,-3.3271746684072743E-4,-6.11355688306503E-4,2.252154679606772E-4,0.0012731439071810907,-2.485730866384175E-4,9.650522778328094E-4,-4.8598747364141874E-4,6.316237591413987E-4,0.0012676143992899193,0.0012224560681109626,0.0018708331368139219,2.1425521764386859E-4,7.27379144842012E-4,0.0015755440399516374,9.436599082416957E-4,9.937027482212416E-4,3.093379588487247E-4,4.938628157510215E-4,6.962397860156165E-4,-5.980462505653526E-4,-0.0013446310767903924,-9.264172468748357E-4,-3.378240750559295E-4,-7.23851915811085E-4,0.0010404817811730835,-5.814882590331965E-4,8.563658727022508E-4,-0.0011949786437778836,9.519031154923141E-4,0.0010974136376818123,2.313065665981008E-4,-4.8290227358746855E-4,6.162875070003793E-4,4.522436130274501E-4,1.8711445025271838E-4,-0.0015312365333860118,-6.892807577969506E-4,0.001504806756404125,3.4444993555856246E-4,4.772338240096966E-4,-4.105332967204352E-4,-9.804362942102468E-4,-6.429986420294476E-4,-9.176293129308355E-4,-7.205432403780933E-4,9.742293291815763E-4,0.0018036591613458262,9.151309560466971E-4,-8.601288686299489E-4,2.774135630008661E-4,6.751952783411575E-4,9.631656123221748E-4,7.263665409280091E-4,6.362022977555171E-4,0.0010601376157460941]                           |\n",
            "|Financial experts are advising on diversifying investment portfolios   |[-0.0024128439254127443,0.001582039277612542,0.0014260836178436875,1.9033944893938798E-4,-1.0480679338797927E-4,0.0028675468699172293,0.0028481029172932417,-0.001260103463816146,-0.0011247520257408419,0.0013171151901284852,7.09728123183595E-4,0.0010785820777527988,8.677436465707917E-4,6.025899322897506E-4,-0.0029698197613470256,0.001162130679100907,0.0018500482207552218,-0.0022942231541189053,0.0011324199998246816,-0.0016120317547271648,1.7834103588635722E-4,-0.001257950246023635,9.95022846230616E-4,6.279555479219803E-5,-1.049251101600627E-4,9.804144113635023E-4,9.594642324373126E-5,0.0010540867782159087,0.0032119087748772772,7.946985812547306E-4,0.0016579886044686039,0.0029470808804035187,-5.443202486882607E-4,-7.466028716104726E-4,-0.00144553563707935,7.940690835918455E-4,5.591993734318141E-4,-0.002296067075803876,-9.034157264977694E-4,0.0011687667035099971,0.0028104207012802362,0.0015231738701307525,6.728156295139343E-4,3.8625939729778713E-4,-0.0011316249025791572,1.0265153832733631E-4,-0.002497890149243176,-0.0013520294645180304,0.0013263010187074542,9.418062109034508E-4,-8.6265408511584E-4,0.0017725289556741093,-0.002063383600519349,-0.002061445372722422,-0.0016762507536138096,-0.0013649903509455421,-0.0011413986333839905,-2.0653974691716331E-4,-0.0011540428386069834,9.028943022713065E-4,-0.0036172440741211176,0.0014270152896642685,-0.0024569606563697257,8.85415143178155E-4,5.893668858334422E-4,1.8784906327103573E-4,1.6941921300409982E-4,0.0013322026643436402,6.820135943902035E-4,2.3412512382492423E-4,4.442374289889509E-4,2.5152401940431446E-4,-0.0018588152258113646,0.0010859764443011954,0.0013936733157606795,-3.5377744158419466E-4,4.2696415524308876E-5,-9.352697888971306E-4,8.387004490941763E-4,0.001382857963714438,6.583880846543858E-4,3.51051470109572E-5,0.0014070619169312217,-0.001806818569699923,0.002898968950224419,-7.654813137681533E-4,-1.8310215940194513E-4,-0.0018445643975913602,0.0010481825981211537,-0.0014989884415020545,-0.0018394689250271767,-5.34376478753984E-4,-9.990626943666332E-4,0.0010736537272653852,0.0013975921901874244,-5.017826042603701E-4,8.373350671414906E-4,-1.0431093687657267E-4,9.591288423204484E-4,0.0020063346819370054]          |\n",
            "|Stock trading has become a popular way to build wealth                 |[-0.0010653007941852722,-8.841929957270622E-5,-3.830978551247556E-4,-1.6144086008093185E-4,0.0016232852878082277,-7.403465174970084E-4,-3.5831163404509425E-4,0.0019031134434044361,7.975076202585893E-4,-3.4169963328167796E-4,-9.79875139559486E-4,-2.632825884834996E-4,-0.0018510398222133517,4.7839886974543333E-4,9.982984546305876E-4,-5.530858512169548E-4,-0.0016713851863252264,-0.0011546507677329437,-5.506327309246574E-4,-0.0010919854809929217,4.449225447647872E-5,4.8413881034191163E-4,-4.45792983685221E-4,-5.489253380801529E-4,5.15920143308384E-4,0.002155182700205062,0.0026691415031174465,0.0011239791305602662,4.515765467658639E-4,-9.328893751704266E-4,-5.844228185846337E-4,-0.002091022615786642,-1.9845120342714445E-5,7.427004664870245E-4,-9.115615518697137E-4,3.1959618874160303E-4,-5.578294512815773E-4,-0.002498013554681425,0.0012331680822431476,-7.256351943526948E-4,4.542379423842898E-4,5.900805616485221E-4,7.675273601697492E-5,9.372572697299932E-4,-0.001551442634081468,6.136724259704351E-4,-5.146405726139035E-4,-3.902906485434089E-4,-0.0031865542696323246,0.0012784275542279439,-8.480708015018275E-4,7.934665565179394E-4,-6.896328829628016E-4,0.0011782544689984725,-6.548889359692112E-6,-2.960142280374254E-6,0.0015836789472294705,0.0021598315631438576,-4.556148134205224E-4,-0.0012825597327069513,-4.253140650689602E-5,-2.3128790573017404E-4,0.003130291987742696,-4.6201700128481856E-4,-5.350013920438608E-4,-6.017066604856934E-4,9.799314346829694E-4,4.8807867070926083E-4,0.001214435024719153,3.198523689726634E-4,-0.00196367986167648,-0.0011751893699900912,0.002278773563115724,-0.0015134605678862759,0.001248674259321498,-0.001040385919623077,-3.505980036736998E-4,5.542684812098742E-4,7.232428698833765E-4,-0.0015452641694407377,-7.41193486776735E-4,-5.478899943877227E-4,-0.0015027641701245945,-2.0308000135368533E-4,0.0018067386034610014,5.366362706159374E-4,-9.541067161730357E-4,1.5883553507072584E-4,4.266443429514766E-4,-3.632745356298983E-4,0.0012552056328526565,-0.0018602021737024188,5.517844193881111E-4,0.003456389631277748,7.072963552283389E-4,0.001726764071333621,5.196001605197255E-4,-0.0020958779038794868,0.0011883964013707424,-0.0010960453156647937]          |\n",
            "|Stock trading has become a popular way to build wealth                 |[-0.0010653007941852722,-8.841929957270622E-5,-3.830978551247556E-4,-1.6144086008093185E-4,0.0016232852878082277,-7.403465174970084E-4,-3.5831163404509425E-4,0.0019031134434044361,7.975076202585893E-4,-3.4169963328167796E-4,-9.79875139559486E-4,-2.632825884834996E-4,-0.0018510398222133517,4.7839886974543333E-4,9.982984546305876E-4,-5.530858512169548E-4,-0.0016713851863252264,-0.0011546507677329437,-5.506327309246574E-4,-0.0010919854809929217,4.449225447647872E-5,4.8413881034191163E-4,-4.45792983685221E-4,-5.489253380801529E-4,5.15920143308384E-4,0.002155182700205062,0.0026691415031174465,0.0011239791305602662,4.515765467658639E-4,-9.328893751704266E-4,-5.844228185846337E-4,-0.002091022615786642,-1.9845120342714445E-5,7.427004664870245E-4,-9.115615518697137E-4,3.1959618874160303E-4,-5.578294512815773E-4,-0.002498013554681425,0.0012331680822431476,-7.256351943526948E-4,4.542379423842898E-4,5.900805616485221E-4,7.675273601697492E-5,9.372572697299932E-4,-0.001551442634081468,6.136724259704351E-4,-5.146405726139035E-4,-3.902906485434089E-4,-0.0031865542696323246,0.0012784275542279439,-8.480708015018275E-4,7.934665565179394E-4,-6.896328829628016E-4,0.0011782544689984725,-6.548889359692112E-6,-2.960142280374254E-6,0.0015836789472294705,0.0021598315631438576,-4.556148134205224E-4,-0.0012825597327069513,-4.253140650689602E-5,-2.3128790573017404E-4,0.003130291987742696,-4.6201700128481856E-4,-5.350013920438608E-4,-6.017066604856934E-4,9.799314346829694E-4,4.8807867070926083E-4,0.001214435024719153,3.198523689726634E-4,-0.00196367986167648,-0.0011751893699900912,0.002278773563115724,-0.0015134605678862759,0.001248674259321498,-0.001040385919623077,-3.505980036736998E-4,5.542684812098742E-4,7.232428698833765E-4,-0.0015452641694407377,-7.41193486776735E-4,-5.478899943877227E-4,-0.0015027641701245945,-2.0308000135368533E-4,0.0018067386034610014,5.366362706159374E-4,-9.541067161730357E-4,1.5883553507072584E-4,4.266443429514766E-4,-3.632745356298983E-4,0.0012552056328526565,-0.0018602021737024188,5.517844193881111E-4,0.003456389631277748,7.072963552283389E-4,0.001726764071333621,5.196001605197255E-4,-0.0020958779038794868,0.0011883964013707424,-0.0010960453156647937]          |\n",
            "+-----------------------------------------------------------------------+---------------------------------------------------------------------------------------------------------------------------------------------------------------------------------------------------------------------------------------------------------------------------------------------------------------------------------------------------------------------------------------------------------------------------------------------------------------------------------------------------------------------------------------------------------------------------------------------------------------------------------------------------------------------------------------------------------------------------------------------------------------------------------------------------------------------------------------------------------------------------------------------------------------------------------------------------------------------------------------------------------------------------------------------------------------------------------------------------------------------------------------------------------------------------------------------------------------------------------------------------------------------------------------------------------------------------------------------------------------------------------------------------------------------------------------------------------------------------------------------------------------------------------------------------------------------------------------------------------------------------------------------------------------------------------------------------------------------------------------------------------------------------------------------------------------------------------------------------------------------------------------------------------------------------------------------------------------------------------------------------------------------------------------------------------------------------------------------------------------------------------------------------------------------------------------------------------------------------------------------------------------------------------------+\n",
            "only showing top 20 rows\n",
            "\n"
          ]
        }
      ]
    },
    {
      "cell_type": "code",
      "source": [
        "#Step 7: Train & Evaluate Logistic Regression Classifier on Word2Vec Features\n"
      ],
      "metadata": {
        "id": "BOmYdSB7unpN"
      },
      "execution_count": 13,
      "outputs": []
    },
    {
      "cell_type": "code",
      "source": [
        "# Split Data\n",
        "train_data_w2v, test_data_w2v = df.randomSplit([0.8, 0.2], seed=42)\n",
        "\n",
        "# Train Model\n",
        "lr_w2v = LogisticRegression(featuresCol=\"featuresW2Vector\", labelCol=\"label\")\n",
        "lr_w2v_model = lr_w2v.fit(train_data_w2v)\n",
        "\n",
        "# Predictions\n",
        "predictions_w2v = lr_w2v_model.transform(test_data_w2v)\n",
        "predictions_w2v.select(\"text\", \"category\", \"prediction\").show(truncate=False)\n",
        "\n",
        "# Evaluate Model Accuracy\n",
        "accuracy_w2v = evaluator.evaluate(predictions_w2v)\n",
        "print(f\"Word2Vec Model Accuracy: {accuracy_w2v:.2f}\")"
      ],
      "metadata": {
        "colab": {
          "base_uri": "https://localhost:8080/"
        },
        "id": "E0PTNY3lutMZ",
        "outputId": "40549ca1-bac8-4299-8256-f124fd8d8847"
      },
      "execution_count": 14,
      "outputs": [
        {
          "output_type": "stream",
          "name": "stdout",
          "text": [
            "+--------------------------------------------------------------------+----------+----------+\n",
            "|text                                                                |category  |prediction|\n",
            "+--------------------------------------------------------------------+----------+----------+\n",
            "|Machine learning has revolutionized the way data is processed       |Technology|1.0       |\n",
            "|The president addressed the nation in a live broadcast              |Politics  |1.0       |\n",
            "|Machine learning has revolutionized the way data is processed       |Technology|1.0       |\n",
            "|Investors are looking for high-yield bonds in the current market    |Finance   |2.0       |\n",
            "|Cloud computing is becoming increasingly important for businesses   |Technology|1.0       |\n",
            "|International relations are being discussed in diplomatic meetings  |Politics  |3.0       |\n",
            "|The Formula 1 race track is set to host the next grand prix         |Sports    |0.0       |\n",
            "|Financial experts are advising on diversifying investment portfolios|Finance   |2.0       |\n",
            "+--------------------------------------------------------------------+----------+----------+\n",
            "\n",
            "Word2Vec Model Accuracy: 0.88\n"
          ]
        }
      ]
    },
    {
      "cell_type": "code",
      "source": [],
      "metadata": {
        "id": "y79O0pFquwyx"
      },
      "execution_count": null,
      "outputs": []
    }
  ]
}